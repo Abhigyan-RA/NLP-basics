{
 "cells": [
  {
   "cell_type": "markdown",
   "metadata": {},
   "source": [
    "#### Dataset ---> Text Preprocessing-1 (1-Tokenization 2-Lowercase the words 3-Regular Expression)---> Text Preprocessing-2 (Stemming,Lemmetization,StopWords) ---> Text into Vectors (1-One hot Encoding 2-BagofWords 3-Tf-IDF 4-Word2Vec 5-AvgWord2Vec) ---> Model Train(Ml or DL)\n"
   ]
  },
  {
   "cell_type": "markdown",
   "metadata": {},
   "source": []
  }
 ],
 "metadata": {
  "language_info": {
   "name": "python"
  }
 },
 "nbformat": 4,
 "nbformat_minor": 2
}
