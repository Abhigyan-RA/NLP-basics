{
 "cells": [
  {
   "cell_type": "markdown",
   "metadata": {},
   "source": [
    "## Wordnet Lemmatizer\n",
    "\n",
    "Lemmetization technique is like stemming. The output we get after lemmetization is called 'lemma', which is a root\n",
    "word rather than root stem. After Lemmetization we get valid word\n",
    "\n",
    "NLTK provides WordNetLemmetizer class which is a thin wrapper around the wordnet coprus. This class uses morphy() function\n",
    "to the WordNet corpusreader class to find a lemma.\n"
   ]
  },
  {
   "cell_type": "code",
   "execution_count": 3,
   "metadata": {},
   "outputs": [],
   "source": [
    "from nltk.stem import WordNetLemmatizer\n",
    "lemmatizer = WordNetLemmatizer()"
   ]
  },
  {
   "cell_type": "code",
   "execution_count": 7,
   "metadata": {},
   "outputs": [
    {
     "data": {
      "text/plain": [
       "'Lemmatize `word` by picking the shortest of the possible lemmas,\\n        using the wordnet corpus reader\\'s built-in _morphy function.\\n        Returns the input word unchanged if it cannot be found in WordNet.\\n\\n        >>> from nltk.stem import WordNetLemmatizer as wnl\\n        >>> print(wnl().lemmatize(\\'dogs\\'))\\n        dog\\n        >>> print(wnl().lemmatize(\\'churches\\'))\\n        church\\n        >>> print(wnl().lemmatize(\\'aardwolves\\'))\\n        aardwolf\\n        >>> print(wnl().lemmatize(\\'abaci\\'))\\n        abacus\\n        >>> print(wnl().lemmatize(\\'hardrock\\'))\\n        hardrock\\n\\n        :param word: The input word to lemmatize.\\n        :type word: str\\n        :param pos: The Part Of Speech tag. Valid options are `\"n\"` for nouns,\\n            `\"v\"` for verbs, `\"a\"` for adjectives, `\"r\"` for adverbs and `\"s\"`\\n            for satellite adjectives.\\n        :type pos: str\\n        :return: The shortest lemma of `word`, for the given `pos`.\\n        '"
      ]
     },
     "execution_count": 7,
     "metadata": {},
     "output_type": "execute_result"
    }
   ],
   "source": [
    "\"\"\"Lemmatize `word` by picking the shortest of the possible lemmas,\n",
    "        using the wordnet corpus reader's built-in _morphy function.\n",
    "        Returns the input word unchanged if it cannot be found in WordNet.\n",
    "\n",
    "        >>> from nltk.stem import WordNetLemmatizer as wnl\n",
    "        >>> print(wnl().lemmatize('dogs'))\n",
    "        dog\n",
    "        >>> print(wnl().lemmatize('churches'))\n",
    "        church\n",
    "        >>> print(wnl().lemmatize('aardwolves'))\n",
    "        aardwolf\n",
    "        >>> print(wnl().lemmatize('abaci'))\n",
    "        abacus\n",
    "        >>> print(wnl().lemmatize('hardrock'))\n",
    "        hardrock\n",
    "\n",
    "        :param word: The input word to lemmatize.\n",
    "        :type word: str\n",
    "        :param pos: The Part Of Speech tag. Valid options are `\"n\"` for nouns,\n",
    "            `\"v\"` for verbs, `\"a\"` for adjectives, `\"r\"` for adverbs and `\"s\"`\n",
    "            for satellite adjectives.\n",
    "        :type pos: str\n",
    "        :return: The shortest lemma of `word`, for the given `pos`.\n",
    "        \"\"\""
   ]
  },
  {
   "cell_type": "code",
   "execution_count": 9,
   "metadata": {},
   "outputs": [
    {
     "data": {
      "text/plain": [
       "'going'"
      ]
     },
     "execution_count": 9,
     "metadata": {},
     "output_type": "execute_result"
    }
   ],
   "source": [
    "'''\n",
    "POS - noun-n\n",
    "verb-v\n",
    "adjective-a\n",
    "adverb-r\n",
    "'''\n",
    "lemmatizer.lemmatize(\"going\",pos=\"n\")  # if error execute the code below "
   ]
  },
  {
   "cell_type": "code",
   "execution_count": 5,
   "metadata": {},
   "outputs": [
    {
     "name": "stderr",
     "output_type": "stream",
     "text": [
      "[nltk_data] Downloading package wordnet to\n",
      "[nltk_data]     C:\\Users\\Lenovo/nltk_data...\n",
      "[nltk_data] Downloading package omw-1.4 to\n",
      "[nltk_data]     C:\\Users\\Lenovo/nltk_data...\n"
     ]
    },
    {
     "data": {
      "text/plain": [
       "True"
      ]
     },
     "execution_count": 5,
     "metadata": {},
     "output_type": "execute_result"
    }
   ],
   "source": [
    "# import nltk\n",
    "\n",
    "# nltk.download('wordnet')\n",
    "\n",
    "# nltk.download('omw-1.4')\n"
   ]
  },
  {
   "cell_type": "code",
   "execution_count": 10,
   "metadata": {},
   "outputs": [
    {
     "data": {
      "text/plain": [
       "'go'"
      ]
     },
     "execution_count": 10,
     "metadata": {},
     "output_type": "execute_result"
    }
   ],
   "source": [
    "lemmatizer.lemmatize(\"going\",pos=\"v\") "
   ]
  },
  {
   "cell_type": "code",
   "execution_count": 11,
   "metadata": {},
   "outputs": [],
   "source": [
    "words = [\"eating\",\"eaten\",\"eat\",\"eats\",\"writing\",\"written\",\"writes\",\"programming\",\"programs\",\"history\",\"finally\",\"finalized\"]"
   ]
  },
  {
   "cell_type": "code",
   "execution_count": 13,
   "metadata": {},
   "outputs": [
    {
     "name": "stdout",
     "output_type": "stream",
     "text": [
      "eating--->eat\n",
      "eaten--->eat\n",
      "eat--->eat\n",
      "eats--->eat\n",
      "writing--->write\n",
      "written--->write\n",
      "writes--->write\n",
      "programming--->program\n",
      "programs--->program\n",
      "history--->history\n",
      "finally--->finally\n",
      "finalized--->finalize\n"
     ]
    }
   ],
   "source": [
    "for word in words:\n",
    "    print(word+\"--->\"+lemmatizer.lemmatize(word,pos=\"v\"))"
   ]
  },
  {
   "cell_type": "code",
   "execution_count": 14,
   "metadata": {},
   "outputs": [
    {
     "data": {
      "text/plain": [
       "'go'"
      ]
     },
     "execution_count": 14,
     "metadata": {},
     "output_type": "execute_result"
    }
   ],
   "source": [
    "lemmatizer.lemmatize(\"goes\")"
   ]
  },
  {
   "cell_type": "code",
   "execution_count": 19,
   "metadata": {},
   "outputs": [
    {
     "data": {
      "text/plain": [
       "'fairly'"
      ]
     },
     "execution_count": 19,
     "metadata": {},
     "output_type": "execute_result"
    }
   ],
   "source": [
    "lemmatizer.lemmatize(\"fairly\",pos=\"r\") # take more time compare to stemming"
   ]
  },
  {
   "cell_type": "code",
   "execution_count": 20,
   "metadata": {},
   "outputs": [],
   "source": [
    "# can be used for Q&A , chatbots, text summerization etc"
   ]
  },
  {
   "cell_type": "code",
   "execution_count": null,
   "metadata": {},
   "outputs": [],
   "source": []
  }
 ],
 "metadata": {
  "kernelspec": {
   "display_name": "Python 3",
   "language": "python",
   "name": "python3"
  },
  "language_info": {
   "codemirror_mode": {
    "name": "ipython",
    "version": 3
   },
   "file_extension": ".py",
   "mimetype": "text/x-python",
   "name": "python",
   "nbconvert_exporter": "python",
   "pygments_lexer": "ipython3",
   "version": "3.12.3"
  }
 },
 "nbformat": 4,
 "nbformat_minor": 2
}
