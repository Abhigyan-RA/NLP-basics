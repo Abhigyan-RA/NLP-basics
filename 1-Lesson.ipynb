{
 "cells": [
  {
   "cell_type": "markdown",
   "metadata": {},
   "source": [
    "If we have all text features now in order to make machine understand the \"all text feature\" we convert the text into \n",
    "\n",
    "\n",
    "## Meaningful Vectors- \n",
    "they are like numbers only but they represent something meaningful with respect to a particular text"
   ]
  },
  {
   "cell_type": "markdown",
   "metadata": {},
   "source": [
    "## Roadmap of NLP\n"
   ]
  },
  {
   "cell_type": "markdown",
   "metadata": {
    "vscode": {
     "languageId": "plaintext"
    }
   },
   "source": [
    "step1 - TextPreprocessing 1 - Tokenization ( convert para to sentence to word), Lemmetization , Stemming , StopWords"
   ]
  },
  {
   "cell_type": "markdown",
   "metadata": {},
   "source": [
    "step2 - TextPreprocessing 2 - We try to convert text data into vectors using - BagofWords, TFIDF, unigram, Bigram"
   ]
  },
  {
   "cell_type": "markdown",
   "metadata": {},
   "source": [
    "step3 - TextPreprocessing 3 - Word2Vec, AvgWord2Vec, -- Advance Convert text into vectors better than step2"
   ]
  },
  {
   "cell_type": "markdown",
   "metadata": {},
   "source": [
    "step4- Neural Networks- RNN,LSTM,GRU RNN"
   ]
  },
  {
   "cell_type": "markdown",
   "metadata": {},
   "source": [
    "step5- Word Embedding- text preprocessing- text into vectors"
   ]
  },
  {
   "cell_type": "markdown",
   "metadata": {},
   "source": [
    "step6- Transformer"
   ]
  },
  {
   "cell_type": "markdown",
   "metadata": {},
   "source": [
    "step7- Bert"
   ]
  },
  {
   "cell_type": "markdown",
   "metadata": {},
   "source": [
    "### Practical Use Cases of NLP\n",
    "\n",
    "1) Autocorrect \n",
    "2) Text suggestions in Gmail\n",
    "3) Google Translate\n",
    "4) Capture images based on Text\n",
    "5) ALEXA , GOOGLE ASSISTANT ETC \n"
   ]
  },
  {
   "cell_type": "markdown",
   "metadata": {},
   "source": [
    "## Tokenization in NLP"
   ]
  },
  {
   "cell_type": "markdown",
   "metadata": {},
   "source": [
    "1) Corpus - Paragraph is called Corpus \n",
    "2) Documents - Sentences\n",
    "3) Vocabulary - Unique Words\n",
    "4) Words - All word present in corpus\n"
   ]
  }
 ],
 "metadata": {
  "language_info": {
   "name": "python"
  }
 },
 "nbformat": 4,
 "nbformat_minor": 2
}
